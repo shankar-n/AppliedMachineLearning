{
 "cells": [
  {
   "cell_type": "markdown",
   "metadata": {},
   "source": [
    "# Imports"
   ]
  },
  {
   "cell_type": "code",
   "execution_count": 20,
   "metadata": {},
   "outputs": [],
   "source": [
    "import pandas as pd\n",
    "import matplotlib.pyplot as plt\n",
    "\n",
    "import mlflow\n",
    "import mlflow.sklearn\n",
    "\n",
    "from sklearn.pipeline import Pipeline\n",
    "from sklearn.feature_extraction.text import CountVectorizer, TfidfTransformer\n",
    "from sklearn.naive_bayes import MultinomialNB\n",
    "from sklearn.svm import SVC\n",
    "from sklearn.linear_model import LogisticRegression\n",
    "from sklearn.ensemble import RandomForestClassifier\n",
    "from sklearn.tree import DecisionTreeClassifier\n",
    "from sklearn.metrics import make_scorer, precision_recall_curve\n",
    "from sklearn.model_selection import GridSearchCV\n",
    "from sklearn.model_selection import StratifiedKFold, cross_val_score \n",
    "\n",
    "# Enable autologging\n",
    "mlflow.sklearn.autolog()\n",
    "\n",
    "import warnings\n",
    "warnings.filterwarnings('ignore')\n",
    "warnings.filterwarnings(action='ignore', module=\"mlflow.models.model\")"
   ]
  },
  {
   "cell_type": "markdown",
   "metadata": {},
   "source": [
    "# Loading Train, Validation, Test Data"
   ]
  },
  {
   "cell_type": "code",
   "execution_count": 21,
   "metadata": {},
   "outputs": [],
   "source": [
    "train = pd.read_csv('train.csv')\n",
    "test = pd.read_csv('test.csv')\n",
    "val = pd.read_csv('validation.csv')\n",
    "\n",
    "X_train = train['cleaned_text'].astype(str)\n",
    "X_test = test['cleaned_text'].astype(str)\n",
    "X_val = val['cleaned_text'].astype(str)\n",
    "\n",
    "y_train = (train['label'] == \"spam\").astype(int)\n",
    "y_test = (test['label'] == \"spam\").astype(int)\n",
    "y_val = (val['label'] == \"spam\").astype(int)"
   ]
  },
  {
   "cell_type": "markdown",
   "metadata": {},
   "source": [
    "# Training"
   ]
  },
  {
   "cell_type": "markdown",
   "metadata": {},
   "source": [
    "Looking at literature we choose the following classifiers and features for our task:\n",
    "\n",
    "**Classifiers:** Naive Bayes, Decision Tree, Logistic Regression, SVM, Random Forest, XGBoost.\n",
    "\n",
    "**Features:** CountVectorizer + TF-IDF.\n",
    "\n",
    "https://indusedu.org/pdfs/IJREISS/IJREISS_4388_87139.pdf?form=MG0AV3\n",
    "\n",
    "https://radimrehurek.com/data_science_python/"
   ]
  },
  {
   "cell_type": "markdown",
   "metadata": {},
   "source": [
    "## Creating Classifiers, Params"
   ]
  },
  {
   "cell_type": "code",
   "execution_count": 22,
   "metadata": {},
   "outputs": [],
   "source": [
    "classifiers = {\n",
    "    \"NaiveBayes\": MultinomialNB(),\n",
    "    \"LogisticRegression\": LogisticRegression(max_iter=500),\n",
    "    \"RandomForest\": RandomForestClassifier(),\n",
    "    \"SVM\": SVC(probability=True),\n",
    "    \"DecisionTree\": DecisionTreeClassifier()\n",
    "}\n",
    "\n",
    "param_grids = {\n",
    "    \"NaiveBayes\": {'clf__alpha': [0.1, 0.5, 1.0]},\n",
    "    \"LogisticRegression\": {'clf__C': [0.1, 1, 10]},\n",
    "    \"RandomForest\": {'clf__n_estimators': [50, 100], 'clf__max_depth': [None, 10]},\n",
    "    \"SVM\": {'clf__C': [0.1, 1, 10], 'clf__kernel': ['linear', 'rbf']},\n",
    "    \"DecisionTree\": {'clf__max_depth': [None, 10, 20]}\n",
    "}"
   ]
  },
  {
   "cell_type": "markdown",
   "metadata": {},
   "source": [
    "# Set MLFlow Experiment"
   ]
  },
  {
   "cell_type": "code",
   "execution_count": 23,
   "metadata": {},
   "outputs": [
    {
     "name": "stderr",
     "output_type": "stream",
     "text": [
      "2025/03/18 19:38:51 INFO mlflow.tracking.fluent: Experiment with name 'Spam vs Ham Classification' does not exist. Creating a new experiment.\n"
     ]
    },
    {
     "data": {
      "text/plain": [
       "<Experiment: artifact_location='file:///C:/Users/Shankar/Desktop/goat-ipython/goat-vault/goat-vault/01%20-%20Notes/03%20-%20Resources/Codes/CMI/AML/Assignment%202/mlruns/469622913993143644', creation_time=1742306931775, experiment_id='469622913993143644', last_update_time=1742306931775, lifecycle_stage='active', name='Spam vs Ham Classification', tags={}>"
      ]
     },
     "execution_count": 23,
     "metadata": {},
     "output_type": "execute_result"
    }
   ],
   "source": [
    "mlflow.set_experiment(\"Spam vs Ham Classification\")"
   ]
  },
  {
   "cell_type": "markdown",
   "metadata": {},
   "source": [
    "# Fit Training Data"
   ]
  },
  {
   "cell_type": "code",
   "execution_count": 24,
   "metadata": {},
   "outputs": [],
   "source": [
    "# Scoring metric AUCPR\n",
    "def auc_prc_score(y_true, y_pred):\n",
    "    precision, recall, _ = precision_recall_curve(y_true, y_pred)\n",
    "    return auc(recall, precision)\n",
    "\n",
    "auc_prc = make_scorer(auc_prc_score, greater_is_better=True, needs_proba=True);"
   ]
  },
  {
   "cell_type": "code",
   "execution_count": 14,
   "metadata": {},
   "outputs": [
    {
     "name": "stdout",
     "output_type": "stream",
     "text": [
      "Training NaiveBayes...\n"
     ]
    },
    {
     "name": "stderr",
     "output_type": "stream",
     "text": [
      "2025/03/18 19:33:42 WARNING mlflow.sklearn: Unrecognized dataset type <class 'pandas.core.series.Series'>. Dataset logging skipped.\n",
      "2025/03/18 19:33:46 WARNING mlflow.sklearn.utils: BaseSearchCV.score failed. The 'training_score' metric will not be recorded. Scoring error: auc_prc_score() got an unexpected keyword argument 'needs_proba'\n",
      "2025/03/18 19:33:57 INFO mlflow.sklearn.utils: Logging the 5 best runs, no runs will be omitted.\n",
      "2025/03/18 19:33:58 WARNING mlflow.sklearn: Unrecognized dataset type <class 'pandas.core.series.Series'>. Dataset logging skipped.\n"
     ]
    },
    {
     "name": "stdout",
     "output_type": "stream",
     "text": [
      "Best params for NaiveBayes: {'clf__alpha': 0.1}\n",
      "Validation AUCPR for NaiveBayes: 0.982078853046595\n",
      "Best AUCPR for NaiveBayes: nan\n",
      "Training LogisticRegression...\n"
     ]
    },
    {
     "name": "stderr",
     "output_type": "stream",
     "text": [
      "2025/03/18 19:34:00 WARNING mlflow.sklearn.utils: BaseSearchCV.score failed. The 'training_score' metric will not be recorded. Scoring error: auc_prc_score() got an unexpected keyword argument 'needs_proba'\n",
      "2025/03/18 19:34:07 INFO mlflow.sklearn.utils: Logging the 5 best runs, no runs will be omitted.\n",
      "2025/03/18 19:34:07 WARNING mlflow.sklearn: Unrecognized dataset type <class 'pandas.core.series.Series'>. Dataset logging skipped.\n"
     ]
    },
    {
     "name": "stdout",
     "output_type": "stream",
     "text": [
      "Best params for LogisticRegression: {'clf__C': 0.1}\n",
      "Validation AUCPR for LogisticRegression: 0.8566308243727598\n",
      "Best AUCPR for LogisticRegression: nan\n",
      "Training RandomForest...\n"
     ]
    },
    {
     "name": "stderr",
     "output_type": "stream",
     "text": [
      "2025/03/18 19:34:10 WARNING mlflow.sklearn.utils: BaseSearchCV.score failed. The 'training_score' metric will not be recorded. Scoring error: auc_prc_score() got an unexpected keyword argument 'needs_proba'\n",
      "2025/03/18 19:34:18 INFO mlflow.sklearn.utils: Logging the 5 best runs, no runs will be omitted.\n",
      "2025/03/18 19:34:19 WARNING mlflow.sklearn: Unrecognized dataset type <class 'pandas.core.series.Series'>. Dataset logging skipped.\n"
     ]
    },
    {
     "name": "stdout",
     "output_type": "stream",
     "text": [
      "Best params for RandomForest: {'clf__max_depth': None, 'clf__n_estimators': 50}\n",
      "Validation AUCPR for RandomForest: 0.9767025089605734\n",
      "Best AUCPR for RandomForest: nan\n",
      "Training SVM...\n"
     ]
    },
    {
     "name": "stderr",
     "output_type": "stream",
     "text": [
      "2025/03/18 19:34:31 WARNING mlflow.sklearn.utils: BaseSearchCV.score failed. The 'training_score' metric will not be recorded. Scoring error: auc_prc_score() got an unexpected keyword argument 'needs_proba'\n",
      "2025/03/18 19:34:38 INFO mlflow.sklearn.utils: Logging the 5 best runs, one run will be omitted.\n",
      "2025/03/18 19:34:39 WARNING mlflow.sklearn: Unrecognized dataset type <class 'pandas.core.series.Series'>. Dataset logging skipped.\n"
     ]
    },
    {
     "name": "stdout",
     "output_type": "stream",
     "text": [
      "Best params for SVM: {'clf__C': 0.1, 'clf__kernel': 'linear'}\n",
      "Validation AUCPR for SVM: 0.9408602150537635\n",
      "Best AUCPR for SVM: nan\n",
      "Training DecisionTree...\n"
     ]
    },
    {
     "name": "stderr",
     "output_type": "stream",
     "text": [
      "2025/03/18 19:34:40 WARNING mlflow.sklearn.utils: BaseSearchCV.score failed. The 'training_score' metric will not be recorded. Scoring error: auc_prc_score() got an unexpected keyword argument 'needs_proba'\n",
      "2025/03/18 19:34:48 INFO mlflow.sklearn.utils: Logging the 5 best runs, no runs will be omitted.\n"
     ]
    },
    {
     "name": "stdout",
     "output_type": "stream",
     "text": [
      "Best params for DecisionTree: {'clf__max_depth': None}\n",
      "Validation AUCPR for DecisionTree: 0.9551971326164874\n",
      "Best AUCPR for DecisionTree: nan\n"
     ]
    }
   ],
   "source": [
    "for name, clf in classifiers.items():\n",
    "    print(f\"Training {name}...\")\n",
    "    \n",
    "    # Define pipeline\n",
    "    pipeline = Pipeline([\n",
    "        ('vect', CountVectorizer()),\n",
    "        ('tfidf', TfidfTransformer()),\n",
    "        ('clf', clf)\n",
    "    ])\n",
    "    \n",
    "    # Grid Search\n",
    "    param_grid = param_grids[name]\n",
    "    grid_search = GridSearchCV(pipeline, param_grid, scoring='average_precision', cv=StratifiedKFold(), n_jobs=-1)\n",
    "    \n",
    "    # Log model to MLflow\n",
    "    with mlflow.start_run(run_name=name):\n",
    "        grid_search.fit(X_train, y_train)\n",
    "        # Best model\n",
    "        best_model = grid_search.best_estimator_\n",
    "        best_params = grid_search.best_params_\n",
    "        print(f\"Best params for {name}: {best_params}\")\n",
    "\n",
    "        # Evaluate on the VALIDATION set\n",
    "        val_aucpr = best_model.score(X_val, y_val)\n",
    "        mlflow.log_metric(\"validation_aucpr\", val_aucpr)\n",
    "        print(f\"Validation AUCPR for {name}: {val_aucpr}\")\n",
    "        \n",
    "        print(f\"Best AUCPR for {name}: {grid_search.best_score_}\")"
   ]
  },
  {
   "cell_type": "markdown",
   "metadata": {},
   "source": [
    "# Test the benchmark models on TEST data"
   ]
  },
  {
   "cell_type": "code",
   "execution_count": 18,
   "metadata": {},
   "outputs": [
    {
     "ename": "AttributeError",
     "evalue": "'NoneType' object has no attribute 'info'",
     "output_type": "error",
     "traceback": [
      "\u001b[1;31m---------------------------------------------------------------------------\u001b[0m",
      "\u001b[1;31mAttributeError\u001b[0m                            Traceback (most recent call last)",
      "Cell \u001b[1;32mIn[18], line 3\u001b[0m\n\u001b[0;32m      1\u001b[0m \u001b[38;5;28;01mfor\u001b[39;00m name \u001b[38;5;129;01min\u001b[39;00m classifiers\u001b[38;5;241m.\u001b[39mkeys():\n\u001b[0;32m      2\u001b[0m     \u001b[38;5;66;03m# Load the best model from MLflow\u001b[39;00m\n\u001b[1;32m----> 3\u001b[0m     model_uri \u001b[38;5;241m=\u001b[39m \u001b[38;5;124mf\u001b[39m\u001b[38;5;124m\"\u001b[39m\u001b[38;5;124mruns:/\u001b[39m\u001b[38;5;132;01m{\u001b[39;00mmlflow\u001b[38;5;241m.\u001b[39mactive_run()\u001b[38;5;241m.\u001b[39minfo\u001b[38;5;241m.\u001b[39mrun_id\u001b[38;5;132;01m}\u001b[39;00m\u001b[38;5;124m/model\u001b[39m\u001b[38;5;124m\"\u001b[39m\n\u001b[0;32m      4\u001b[0m     loaded_model \u001b[38;5;241m=\u001b[39m mlflow\u001b[38;5;241m.\u001b[39msklearn\u001b[38;5;241m.\u001b[39mload_model(model_uri)\n\u001b[0;32m      6\u001b[0m     \u001b[38;5;66;03m# Predict on the TEST set\u001b[39;00m\n",
      "\u001b[1;31mAttributeError\u001b[0m: 'NoneType' object has no attribute 'info'"
     ]
    }
   ],
   "source": [
    "for name in classifiers.keys():\n",
    "    # Load the best model from MLflow\n",
    "    model_uri = f\"runs:/{mlflow.active_run().info.run_id}/model\"\n",
    "    loaded_model = mlflow.sklearn.load_model(model_uri)\n",
    "    \n",
    "    # Predict on the TEST set\n",
    "    test_proba = loaded_model.predict_proba(X_test)[:, 1]\n",
    "    test_aucpr = average_precision_score(y_test, test_proba)\n",
    "    print(f\"{name} AUCPR on test set: {test_aucpr}\")"
   ]
  },
  {
   "cell_type": "markdown",
   "metadata": {},
   "source": [
    "# Run MLFlow Server"
   ]
  },
  {
   "cell_type": "code",
   "execution_count": 19,
   "metadata": {},
   "outputs": [
    {
     "name": "stdout",
     "output_type": "stream",
     "text": [
      "^C\n"
     ]
    }
   ],
   "source": [
    "!mlflow server --host 127.0.0.1 --port 8080"
   ]
  },
  {
   "cell_type": "code",
   "execution_count": null,
   "metadata": {},
   "outputs": [],
   "source": []
  }
 ],
 "metadata": {
  "kernelspec": {
   "display_name": "Python 3 (ipykernel)",
   "language": "python",
   "name": "python3"
  },
  "language_info": {
   "codemirror_mode": {
    "name": "ipython",
    "version": 3
   },
   "file_extension": ".py",
   "mimetype": "text/x-python",
   "name": "python",
   "nbconvert_exporter": "python",
   "pygments_lexer": "ipython3",
   "version": "3.11.7"
  }
 },
 "nbformat": 4,
 "nbformat_minor": 4
}
