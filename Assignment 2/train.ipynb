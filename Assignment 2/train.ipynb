{
 "cells": [
  {
   "cell_type": "markdown",
   "metadata": {},
   "source": [
    "# Imports"
   ]
  },
  {
   "cell_type": "code",
   "execution_count": 1,
   "metadata": {},
   "outputs": [],
   "source": [
    "import pandas as pd\n",
    "import matplotlib.pyplot as plt\n",
    "\n",
    "import mlflow\n",
    "import mlflow.sklearn\n",
    "\n",
    "from sklearn.pipeline import Pipeline\n",
    "from sklearn.feature_extraction.text import CountVectorizer, TfidfTransformer\n",
    "from sklearn.naive_bayes import MultinomialNB\n",
    "from sklearn.svm import SVC\n",
    "from sklearn.linear_model import LogisticRegression\n",
    "from sklearn.ensemble import RandomForestClassifier\n",
    "from sklearn.tree import DecisionTreeClassifier\n",
    "from sklearn.metrics import make_scorer, precision_recall_curve\n",
    "from sklearn.model_selection import GridSearchCV\n",
    "from sklearn.model_selection import StratifiedKFold, cross_val_score \n",
    "\n",
    "# Enable autologging\n",
    "mlflow.sklearn.autolog()\n",
    "\n",
    "import warnings\n",
    "warnings.filterwarnings('ignore')\n",
    "warnings.filterwarnings(action='ignore', module=\"mlflow.models.model\")"
   ]
  },
  {
   "cell_type": "markdown",
   "metadata": {},
   "source": [
    "# Loading Train, Validation, Test Data"
   ]
  },
  {
   "cell_type": "code",
   "execution_count": 2,
   "metadata": {},
   "outputs": [],
   "source": [
    "train = pd.read_csv('train.csv')\n",
    "test = pd.read_csv('test.csv')\n",
    "val = pd.read_csv('validation.csv')\n",
    "\n",
    "X_train = train['cleaned_text'].astype(str)\n",
    "X_test = test['cleaned_text'].astype(str)\n",
    "X_val = val['cleaned_text'].astype(str)\n",
    "\n",
    "y_train = (train['label'] == \"spam\").astype(int)\n",
    "y_test = (test['label'] == \"spam\").astype(int)\n",
    "y_val = (val['label'] == \"spam\").astype(int)"
   ]
  },
  {
   "cell_type": "markdown",
   "metadata": {},
   "source": [
    "# Training"
   ]
  },
  {
   "cell_type": "markdown",
   "metadata": {},
   "source": [
    "Looking at literature we choose the following classifiers and features for our task:\n",
    "\n",
    "**Classifiers:** Naive Bayes, Decision Tree, Logistic Regression, SVM, Random Forest, XGBoost.\n",
    "\n",
    "**Features:** CountVectorizer + TF-IDF.\n",
    "\n",
    "https://indusedu.org/pdfs/IJREISS/IJREISS_4388_87139.pdf?form=MG0AV3\n",
    "\n",
    "https://radimrehurek.com/data_science_python/"
   ]
  },
  {
   "cell_type": "markdown",
   "metadata": {},
   "source": [
    "## Creating Classifiers, Params"
   ]
  },
  {
   "cell_type": "code",
   "execution_count": 3,
   "metadata": {},
   "outputs": [],
   "source": [
    "classifiers = {\n",
    "    \"NaiveBayes\": MultinomialNB(),\n",
    "    \"LogisticRegression\": LogisticRegression(max_iter=500),\n",
    "    \"RandomForest\": RandomForestClassifier(),\n",
    "    \"SVM\": SVC(probability=True),\n",
    "    \"DecisionTree\": DecisionTreeClassifier()\n",
    "}\n",
    "\n",
    "param_grids = {\n",
    "    \"NaiveBayes\": {'clf__alpha': [0.1, 0.5, 1.0]},\n",
    "    \"LogisticRegression\": {'clf__C': [0.1, 1, 10]},\n",
    "    \"RandomForest\": {'clf__n_estimators': [50, 100], 'clf__max_depth': [None, 10]},\n",
    "    \"SVM\": {'clf__C': [0.1, 1, 10], 'clf__kernel': ['linear', 'rbf']},\n",
    "    \"DecisionTree\": {'clf__max_depth': [None, 10, 20]}\n",
    "}"
   ]
  },
  {
   "cell_type": "markdown",
   "metadata": {},
   "source": [
    "# Set MLFlow Experiment"
   ]
  },
  {
   "cell_type": "code",
   "execution_count": 4,
   "metadata": {},
   "outputs": [
    {
     "name": "stderr",
     "output_type": "stream",
     "text": [
      "2025/03/18 19:58:04 INFO mlflow.tracking.fluent: Experiment with name 'Spam vs Ham Classification' does not exist. Creating a new experiment.\n"
     ]
    },
    {
     "data": {
      "text/plain": [
       "<Experiment: artifact_location='file:///C:/Users/Shankar/Desktop/goat-ipython/goat-vault/goat-vault/01%20-%20Notes/03%20-%20Resources/Codes/CMI/AML/Assignment%202/mlruns/144961064304096514', creation_time=1742308084703, experiment_id='144961064304096514', last_update_time=1742308084703, lifecycle_stage='active', name='Spam vs Ham Classification', tags={}>"
      ]
     },
     "execution_count": 4,
     "metadata": {},
     "output_type": "execute_result"
    }
   ],
   "source": [
    "mlflow.set_experiment(\"Spam vs Ham Classification\")"
   ]
  },
  {
   "cell_type": "markdown",
   "metadata": {},
   "source": [
    "# Fit Training Data"
   ]
  },
  {
   "cell_type": "code",
   "execution_count": 5,
   "metadata": {},
   "outputs": [
    {
     "name": "stdout",
     "output_type": "stream",
     "text": [
      "Training NaiveBayes...\n"
     ]
    },
    {
     "name": "stderr",
     "output_type": "stream",
     "text": [
      "2025/03/18 19:58:10 WARNING mlflow.sklearn: Unrecognized dataset type <class 'pandas.core.series.Series'>. Dataset logging skipped.\n",
      "2025/03/18 19:58:24 INFO mlflow.sklearn.utils: Logging the 5 best runs, no runs will be omitted.\n"
     ]
    },
    {
     "name": "stdout",
     "output_type": "stream",
     "text": [
      "Best params for NaiveBayes: {'clf__alpha': 0.1}\n",
      "Validation AUCPR for NaiveBayes: 0.982078853046595\n",
      "Best AUCPR for NaiveBayes: 0.9680471396357196\n"
     ]
    },
    {
     "name": "stderr",
     "output_type": "stream",
     "text": [
      "2025/03/18 19:58:27 WARNING mlflow.models.model: Model logged without a signature and input example. Please set `input_example` parameter when logging the model to auto infer the model signature.\n",
      "Successfully registered model 'NaiveBayes'.\n",
      "Created version '1' of model 'NaiveBayes'.\n",
      "2025/03/18 19:58:28 WARNING mlflow.sklearn: Unrecognized dataset type <class 'pandas.core.series.Series'>. Dataset logging skipped.\n"
     ]
    },
    {
     "name": "stdout",
     "output_type": "stream",
     "text": [
      "Training LogisticRegression...\n"
     ]
    },
    {
     "name": "stderr",
     "output_type": "stream",
     "text": [
      "2025/03/18 19:58:37 INFO mlflow.sklearn.utils: Logging the 5 best runs, no runs will be omitted.\n"
     ]
    },
    {
     "name": "stdout",
     "output_type": "stream",
     "text": [
      "Best params for LogisticRegression: {'clf__C': 10}\n",
      "Validation AUCPR for LogisticRegression: 0.982078853046595\n",
      "Best AUCPR for LogisticRegression: 0.9712515499982448\n"
     ]
    },
    {
     "name": "stderr",
     "output_type": "stream",
     "text": [
      "2025/03/18 19:58:41 WARNING mlflow.models.model: Model logged without a signature and input example. Please set `input_example` parameter when logging the model to auto infer the model signature.\n",
      "Successfully registered model 'LogisticRegression'.\n",
      "Created version '1' of model 'LogisticRegression'.\n",
      "2025/03/18 19:58:41 WARNING mlflow.sklearn: Unrecognized dataset type <class 'pandas.core.series.Series'>. Dataset logging skipped.\n"
     ]
    },
    {
     "name": "stdout",
     "output_type": "stream",
     "text": [
      "Training RandomForest...\n"
     ]
    },
    {
     "name": "stderr",
     "output_type": "stream",
     "text": [
      "2025/03/18 19:58:52 INFO mlflow.sklearn.utils: Logging the 5 best runs, no runs will be omitted.\n"
     ]
    },
    {
     "name": "stdout",
     "output_type": "stream",
     "text": [
      "Best params for RandomForest: {'clf__max_depth': None, 'clf__n_estimators': 100}\n",
      "Validation AUCPR for RandomForest: 0.974910394265233\n",
      "Best AUCPR for RandomForest: 0.9680914360527245\n"
     ]
    },
    {
     "name": "stderr",
     "output_type": "stream",
     "text": [
      "2025/03/18 19:58:57 WARNING mlflow.models.model: Model logged without a signature and input example. Please set `input_example` parameter when logging the model to auto infer the model signature.\n",
      "Successfully registered model 'RandomForest'.\n",
      "Created version '1' of model 'RandomForest'.\n",
      "2025/03/18 19:58:57 WARNING mlflow.sklearn: Unrecognized dataset type <class 'pandas.core.series.Series'>. Dataset logging skipped.\n"
     ]
    },
    {
     "name": "stdout",
     "output_type": "stream",
     "text": [
      "Training SVM...\n"
     ]
    },
    {
     "name": "stderr",
     "output_type": "stream",
     "text": [
      "2025/03/18 19:59:20 INFO mlflow.sklearn.utils: Logging the 5 best runs, one run will be omitted.\n"
     ]
    },
    {
     "name": "stdout",
     "output_type": "stream",
     "text": [
      "Best params for SVM: {'clf__C': 10, 'clf__kernel': 'rbf'}\n",
      "Validation AUCPR for SVM: 0.985663082437276\n",
      "Best AUCPR for SVM: 0.9773425179794465\n"
     ]
    },
    {
     "name": "stderr",
     "output_type": "stream",
     "text": [
      "2025/03/18 19:59:24 WARNING mlflow.models.model: Model logged without a signature and input example. Please set `input_example` parameter when logging the model to auto infer the model signature.\n",
      "Successfully registered model 'SVM'.\n",
      "Created version '1' of model 'SVM'.\n",
      "2025/03/18 19:59:24 WARNING mlflow.sklearn: Unrecognized dataset type <class 'pandas.core.series.Series'>. Dataset logging skipped.\n"
     ]
    },
    {
     "name": "stdout",
     "output_type": "stream",
     "text": [
      "Training DecisionTree...\n"
     ]
    },
    {
     "name": "stderr",
     "output_type": "stream",
     "text": [
      "2025/03/18 19:59:33 INFO mlflow.sklearn.utils: Logging the 5 best runs, no runs will be omitted.\n"
     ]
    },
    {
     "name": "stdout",
     "output_type": "stream",
     "text": [
      "Best params for DecisionTree: {'clf__max_depth': 10}\n",
      "Validation AUCPR for DecisionTree: 0.9587813620071685\n",
      "Best AUCPR for DecisionTree: 0.7384096342951365\n"
     ]
    },
    {
     "name": "stderr",
     "output_type": "stream",
     "text": [
      "2025/03/18 19:59:37 WARNING mlflow.models.model: Model logged without a signature and input example. Please set `input_example` parameter when logging the model to auto infer the model signature.\n",
      "Successfully registered model 'DecisionTree'.\n",
      "Created version '1' of model 'DecisionTree'.\n"
     ]
    }
   ],
   "source": [
    "for name, clf in classifiers.items():\n",
    "    print(f\"Training {name}...\")\n",
    "    \n",
    "    # Define pipeline\n",
    "    pipeline = Pipeline([\n",
    "        ('vect', CountVectorizer()),\n",
    "        ('tfidf', TfidfTransformer()),\n",
    "        ('clf', clf)\n",
    "    ])\n",
    "    \n",
    "    # Grid Search\n",
    "    param_grid = param_grids[name]\n",
    "    grid_search = GridSearchCV(pipeline, param_grid, scoring='average_precision', cv=StratifiedKFold(), n_jobs=-1)\n",
    "    \n",
    "    # Log model to MLflow\n",
    "    with mlflow.start_run(run_name=name):\n",
    "        grid_search.fit(X_train, y_train)\n",
    "        # Best model\n",
    "        best_model = grid_search.best_estimator_\n",
    "        best_params = grid_search.best_params_\n",
    "        print(f\"Best params for {name}: {best_params}\")\n",
    "\n",
    "        # Evaluate on the VALIDATION set\n",
    "        val_aucpr = best_model.score(X_val, y_val)\n",
    "        mlflow.log_metric(\"validation_aucpr\", val_aucpr)\n",
    "        print(f\"Validation AUCPR for {name}: {val_aucpr}\")\n",
    "        \n",
    "        print(f\"Best AUCPR for {name}: {grid_search.best_score_}\")\n",
    "\n",
    "        # Register the model\n",
    "        mlflow.sklearn.log_model(\n",
    "        sk_model=best_model,\n",
    "        artifact_path=\"ham-spam-models\",\n",
    "        registered_model_name=name,\n",
    "        )"
   ]
  },
  {
   "cell_type": "markdown",
   "metadata": {},
   "source": [
    "# Benchmark models on Test data"
   ]
  },
  {
   "cell_type": "code",
   "execution_count": 6,
   "metadata": {},
   "outputs": [
    {
     "name": "stdout",
     "output_type": "stream",
     "text": [
      "\n",
      "Checking out model: NaiveBayes\n",
      "TEST AUCPR for NaiveBayes: 0.9856502242152466\n",
      "\n",
      "Checking out model: LogisticRegression\n",
      "TEST AUCPR for LogisticRegression: 0.9847533632286996\n",
      "\n",
      "Checking out model: RandomForest\n",
      "TEST AUCPR for RandomForest: 0.9775784753363229\n",
      "\n",
      "Checking out model: SVM\n",
      "TEST AUCPR for SVM: 0.9856502242152466\n",
      "\n",
      "Checking out model: DecisionTree\n",
      "TEST AUCPR for DecisionTree: 0.95695067264574\n"
     ]
    }
   ],
   "source": [
    "for model_name in classifiers.keys():\n",
    "    print(f\"\\nChecking out model: {model_name}\")\n",
    "    \n",
    "    # Load the model from the MLflow model registry or a specific run\n",
    "    model_uri = f\"models:/{model_name}/latest\"  # Ensure the model is registered in MLflow\n",
    "    loaded_model = mlflow.sklearn.load_model(model_uri)\n",
    "    \n",
    "    # Calculate AUCPR\n",
    "    aucpr = loaded_model.score(X_test, y_test)\n",
    "    \n",
    "    print(f\"TEST AUCPR for {model_name}: {aucpr}\")"
   ]
  },
  {
   "cell_type": "markdown",
   "metadata": {},
   "source": [
    "# Run MLFlow Server"
   ]
  },
  {
   "cell_type": "code",
   "execution_count": 7,
   "metadata": {},
   "outputs": [
    {
     "name": "stdout",
     "output_type": "stream",
     "text": [
      "^C\n"
     ]
    }
   ],
   "source": [
    "!mlflow server --host 127.0.0.1 --port 8080"
   ]
  },
  {
   "cell_type": "code",
   "execution_count": 8,
   "metadata": {},
   "outputs": [
    {
     "name": "stderr",
     "output_type": "stream",
     "text": [
      "warning: in the working copy of 'Assignment 2/.ipynb_checkpoints/train-checkpoint.ipynb', LF will be replaced by CRLF the next time Git touches it\n",
      "warning: in the working copy of 'Assignment 2/prepare.ipynb', LF will be replaced by CRLF the next time Git touches it\n",
      "warning: in the working copy of 'Assignment 2/train.ipynb', LF will be replaced by CRLF the next time Git touches it\n",
      "warning: in the working copy of 'Assignment 2/mlruns/0/meta.yaml', LF will be replaced by CRLF the next time Git touches it\n",
      "warning: in the working copy of 'Assignment 2/mlruns/144961064304096514/031f5340e5f04852abbefa0bce43f5f5/meta.yaml', LF will be replaced by CRLF the next time Git touches it\n",
      "warning: in the working copy of 'Assignment 2/mlruns/144961064304096514/0f70a6d33a2a4a248482801cf1bda574/meta.yaml', LF will be replaced by CRLF the next time Git touches it\n",
      "warning: in the working copy of 'Assignment 2/mlruns/144961064304096514/1f0abad739e241a18d58959f60b1c66c/meta.yaml', LF will be replaced by CRLF the next time Git touches it\n",
      "warning: in the working copy of 'Assignment 2/mlruns/144961064304096514/26548f9793eb425c8993834f961d50e2/meta.yaml', LF will be replaced by CRLF the next time Git touches it\n",
      "warning: in the working copy of 'Assignment 2/mlruns/144961064304096514/34eac8b2303944f8b0a433481647c5e5/meta.yaml', LF will be replaced by CRLF the next time Git touches it\n",
      "warning: in the working copy of 'Assignment 2/mlruns/144961064304096514/3761594beb1c4fb699bb696d027da33a/meta.yaml', LF will be replaced by CRLF the next time Git touches it\n",
      "warning: in the working copy of 'Assignment 2/mlruns/144961064304096514/39915f5000754fb9bfb382879556e12e/meta.yaml', LF will be replaced by CRLF the next time Git touches it\n",
      "warning: in the working copy of 'Assignment 2/mlruns/144961064304096514/6d9a86e7829d4b448eae19046fcc945d/meta.yaml', LF will be replaced by CRLF the next time Git touches it\n",
      "warning: in the working copy of 'Assignment 2/mlruns/144961064304096514/7b6f81974688477c8e4b137aeb81e95b/artifacts/best_estimator/requirements.txt', LF will be replaced by CRLF the next time Git touches it\n",
      "warning: in the working copy of 'Assignment 2/mlruns/144961064304096514/7b6f81974688477c8e4b137aeb81e95b/artifacts/ham-spam-models/registered_model_meta', LF will be replaced by CRLF the next time Git touches it\n",
      "warning: in the working copy of 'Assignment 2/mlruns/144961064304096514/7b6f81974688477c8e4b137aeb81e95b/artifacts/ham-spam-models/requirements.txt', LF will be replaced by CRLF the next time Git touches it\n",
      "warning: in the working copy of 'Assignment 2/mlruns/144961064304096514/7b6f81974688477c8e4b137aeb81e95b/artifacts/model/requirements.txt', LF will be replaced by CRLF the next time Git touches it\n",
      "warning: in the working copy of 'Assignment 2/mlruns/144961064304096514/7b6f81974688477c8e4b137aeb81e95b/meta.yaml', LF will be replaced by CRLF the next time Git touches it\n",
      "warning: in the working copy of 'Assignment 2/mlruns/144961064304096514/7b6f81974688477c8e4b137aeb81e95b/params/estimator', LF will be replaced by CRLF the next time Git touches it\n",
      "warning: in the working copy of 'Assignment 2/mlruns/144961064304096514/847b0bc4e8ee40fe8af127f984455ce0/meta.yaml', LF will be replaced by CRLF the next time Git touches it\n",
      "warning: in the working copy of 'Assignment 2/mlruns/144961064304096514/913640de839048f4864888a20d5d0489/meta.yaml', LF will be replaced by CRLF the next time Git touches it\n",
      "warning: in the working copy of 'Assignment 2/mlruns/144961064304096514/9c8ca4ca920f43878191e2335732eb1d/meta.yaml', LF will be replaced by CRLF the next time Git touches it\n",
      "warning: in the working copy of 'Assignment 2/mlruns/144961064304096514/a386c3e4bbab466eb1edf798be00366b/meta.yaml', LF will be replaced by CRLF the next time Git touches it\n",
      "warning: in the working copy of 'Assignment 2/mlruns/144961064304096514/abfc7a3d03f742548234082b9bedf828/meta.yaml', LF will be replaced by CRLF the next time Git touches it\n",
      "warning: in the working copy of 'Assignment 2/mlruns/144961064304096514/b1bd691d695f4c8a9f9bc35648165f8c/meta.yaml', LF will be replaced by CRLF the next time Git touches it\n",
      "warning: in the working copy of 'Assignment 2/mlruns/144961064304096514/c8743b4252574d32b79f106e3c51652f/artifacts/best_estimator/requirements.txt', LF will be replaced by CRLF the next time Git touches it\n",
      "warning: in the working copy of 'Assignment 2/mlruns/144961064304096514/c8743b4252574d32b79f106e3c51652f/artifacts/ham-spam-models/registered_model_meta', LF will be replaced by CRLF the next time Git touches it\n",
      "warning: in the working copy of 'Assignment 2/mlruns/144961064304096514/c8743b4252574d32b79f106e3c51652f/artifacts/ham-spam-models/requirements.txt', LF will be replaced by CRLF the next time Git touches it\n",
      "warning: in the working copy of 'Assignment 2/mlruns/144961064304096514/c8743b4252574d32b79f106e3c51652f/artifacts/model/requirements.txt', LF will be replaced by CRLF the next time Git touches it\n",
      "warning: in the working copy of 'Assignment 2/mlruns/144961064304096514/c8743b4252574d32b79f106e3c51652f/meta.yaml', LF will be replaced by CRLF the next time Git touches it\n",
      "warning: in the working copy of 'Assignment 2/mlruns/144961064304096514/c8743b4252574d32b79f106e3c51652f/params/estimator', LF will be replaced by CRLF the next time Git touches it\n",
      "warning: in the working copy of 'Assignment 2/mlruns/144961064304096514/d0bc8f3845ba44c5a422cc1efbed2fc9/meta.yaml', LF will be replaced by CRLF the next time Git touches it\n",
      "warning: in the working copy of 'Assignment 2/mlruns/144961064304096514/defff882222b434ca7c683710c5280d9/artifacts/best_estimator/requirements.txt', LF will be replaced by CRLF the next time Git touches it\n",
      "warning: in the working copy of 'Assignment 2/mlruns/144961064304096514/defff882222b434ca7c683710c5280d9/artifacts/ham-spam-models/registered_model_meta', LF will be replaced by CRLF the next time Git touches it\n",
      "warning: in the working copy of 'Assignment 2/mlruns/144961064304096514/defff882222b434ca7c683710c5280d9/artifacts/ham-spam-models/requirements.txt', LF will be replaced by CRLF the next time Git touches it\n",
      "warning: in the working copy of 'Assignment 2/mlruns/144961064304096514/defff882222b434ca7c683710c5280d9/artifacts/model/requirements.txt', LF will be replaced by CRLF the next time Git touches it\n",
      "warning: in the working copy of 'Assignment 2/mlruns/144961064304096514/defff882222b434ca7c683710c5280d9/meta.yaml', LF will be replaced by CRLF the next time Git touches it\n",
      "warning: in the working copy of 'Assignment 2/mlruns/144961064304096514/defff882222b434ca7c683710c5280d9/params/estimator', LF will be replaced by CRLF the next time Git touches it\n",
      "warning: in the working copy of 'Assignment 2/mlruns/144961064304096514/df9a4af752494dc79f904cf083a88083/meta.yaml', LF will be replaced by CRLF the next time Git touches it\n",
      "warning: in the working copy of 'Assignment 2/mlruns/144961064304096514/e214745ca0eb4f7fbc71a75a47cb29e3/meta.yaml', LF will be replaced by CRLF the next time Git touches it\n",
      "warning: in the working copy of 'Assignment 2/mlruns/144961064304096514/ec746fb69fde472c8a9673aefff8b2ce/artifacts/best_estimator/requirements.txt', LF will be replaced by CRLF the next time Git touches it\n",
      "warning: in the working copy of 'Assignment 2/mlruns/144961064304096514/ec746fb69fde472c8a9673aefff8b2ce/artifacts/ham-spam-models/registered_model_meta', LF will be replaced by CRLF the next time Git touches it\n",
      "warning: in the working copy of 'Assignment 2/mlruns/144961064304096514/ec746fb69fde472c8a9673aefff8b2ce/artifacts/ham-spam-models/requirements.txt', LF will be replaced by CRLF the next time Git touches it\n",
      "warning: in the working copy of 'Assignment 2/mlruns/144961064304096514/ec746fb69fde472c8a9673aefff8b2ce/artifacts/model/requirements.txt', LF will be replaced by CRLF the next time Git touches it\n",
      "warning: in the working copy of 'Assignment 2/mlruns/144961064304096514/ec746fb69fde472c8a9673aefff8b2ce/meta.yaml', LF will be replaced by CRLF the next time Git touches it\n",
      "warning: in the working copy of 'Assignment 2/mlruns/144961064304096514/ec746fb69fde472c8a9673aefff8b2ce/params/estimator', LF will be replaced by CRLF the next time Git touches it\n",
      "warning: in the working copy of 'Assignment 2/mlruns/144961064304096514/f86b4b0620ad4dbcb1448a5baa02b0fc/artifacts/best_estimator/requirements.txt', LF will be replaced by CRLF the next time Git touches it\n",
      "warning: in the working copy of 'Assignment 2/mlruns/144961064304096514/f86b4b0620ad4dbcb1448a5baa02b0fc/artifacts/ham-spam-models/registered_model_meta', LF will be replaced by CRLF the next time Git touches it\n",
      "warning: in the working copy of 'Assignment 2/mlruns/144961064304096514/f86b4b0620ad4dbcb1448a5baa02b0fc/artifacts/ham-spam-models/requirements.txt', LF will be replaced by CRLF the next time Git touches it\n",
      "warning: in the working copy of 'Assignment 2/mlruns/144961064304096514/f86b4b0620ad4dbcb1448a5baa02b0fc/artifacts/model/requirements.txt', LF will be replaced by CRLF the next time Git touches it\n",
      "warning: in the working copy of 'Assignment 2/mlruns/144961064304096514/f86b4b0620ad4dbcb1448a5baa02b0fc/meta.yaml', LF will be replaced by CRLF the next time Git touches it\n",
      "warning: in the working copy of 'Assignment 2/mlruns/144961064304096514/f86b4b0620ad4dbcb1448a5baa02b0fc/params/estimator', LF will be replaced by CRLF the next time Git touches it\n",
      "warning: in the working copy of 'Assignment 2/mlruns/144961064304096514/f9a4719b580044e9b99d8b53042b78ea/meta.yaml', LF will be replaced by CRLF the next time Git touches it\n",
      "warning: in the working copy of 'Assignment 2/mlruns/144961064304096514/meta.yaml', LF will be replaced by CRLF the next time Git touches it\n",
      "warning: in the working copy of 'Assignment 2/mlruns/models/DecisionTree/meta.yaml', LF will be replaced by CRLF the next time Git touches it\n",
      "warning: in the working copy of 'Assignment 2/mlruns/models/DecisionTree/version-1/meta.yaml', LF will be replaced by CRLF the next time Git touches it\n",
      "warning: in the working copy of 'Assignment 2/mlruns/models/LogisticRegression/meta.yaml', LF will be replaced by CRLF the next time Git touches it\n",
      "warning: in the working copy of 'Assignment 2/mlruns/models/LogisticRegression/version-1/meta.yaml', LF will be replaced by CRLF the next time Git touches it\n",
      "warning: in the working copy of 'Assignment 2/mlruns/models/NaiveBayes/meta.yaml', LF will be replaced by CRLF the next time Git touches it\n",
      "warning: in the working copy of 'Assignment 2/mlruns/models/NaiveBayes/version-1/meta.yaml', LF will be replaced by CRLF the next time Git touches it\n",
      "warning: in the working copy of 'Assignment 2/mlruns/models/RandomForest/meta.yaml', LF will be replaced by CRLF the next time Git touches it\n",
      "warning: in the working copy of 'Assignment 2/mlruns/models/RandomForest/version-1/meta.yaml', LF will be replaced by CRLF the next time Git touches it\n",
      "warning: in the working copy of 'Assignment 2/mlruns/models/SVM/meta.yaml', LF will be replaced by CRLF the next time Git touches it\n",
      "warning: in the working copy of 'Assignment 2/mlruns/models/SVM/version-1/meta.yaml', LF will be replaced by CRLF the next time Git touches it\n",
      "error: pathspec 'Completed training part with MLFlow tracking' did not match any file(s) known to git\n"
     ]
    }
   ],
   "source": [
    "!git add .\n",
    "!git commit \"Completed training part with MLFlow tracking\""
   ]
  },
  {
   "cell_type": "code",
   "execution_count": null,
   "metadata": {},
   "outputs": [],
   "source": []
  }
 ],
 "metadata": {
  "kernelspec": {
   "display_name": "Python 3 (ipykernel)",
   "language": "python",
   "name": "python3"
  },
  "language_info": {
   "codemirror_mode": {
    "name": "ipython",
    "version": 3
   },
   "file_extension": ".py",
   "mimetype": "text/x-python",
   "name": "python",
   "nbconvert_exporter": "python",
   "pygments_lexer": "ipython3",
   "version": "3.11.7"
  }
 },
 "nbformat": 4,
 "nbformat_minor": 4
}
