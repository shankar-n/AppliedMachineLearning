{
 "cells": [
  {
   "cell_type": "code",
   "execution_count": 7,
   "id": "03bcdd06-def5-454f-a8ba-bb1a02dd9da4",
   "metadata": {},
   "outputs": [],
   "source": [
    "import torch\n",
    "import onnx\n",
    "import onnxruntime as ort\n",
    "import numpy as np\n",
    "\n",
    "def load_pytorch_model(model_path):\n",
    "    \"\"\"Loads a PyTorch model from a given path.\"\"\"\n",
    "    model = torch.load(model_path, map_location=\"cpu\",weights_only = False)\n",
    "    model.eval()\n",
    "    return model\n",
    "\n",
    "def convert_to_onnx(model, onnx_path=\"model.onnx\", input_shape=(1, 3, 224, 224)):\n",
    "    \"\"\"Converts a PyTorch model to ONNX.\"\"\"\n",
    "    dummy_input = torch.randn(*input_shape)\n",
    "    torch.onnx.export(\n",
    "        model, dummy_input, onnx_path, input_names=[\"input\"], output_names=[\"output\"],\n",
    "        dynamic_axes={\"input\": {0: \"batch_size\"}, \"output\": {0: \"batch_size\"}}, opset_version=12\n",
    "    )\n",
    "    print(f\"✅ Model converted to ONNX: {onnx_path}\")\n",
    "\n",
    "def verify_onnx_model(onnx_path):\n",
    "    \"\"\"Verifies the integrity of an ONNX model.\"\"\"\n",
    "    onnx_model = onnx.load(onnx_path)\n",
    "    onnx.checker.check_model(onnx_model)\n",
    "    print(\"✅ ONNX model integrity verified!\")\n",
    "\n",
    "def run_onnx_inference(onnx_path, input_data):\n",
    "    \"\"\"Runs inference using ONNX Runtime.\"\"\"\n",
    "    session = ort.InferenceSession(onnx_path)\n",
    "    outputs = session.run(None, {\"input\": input_data.numpy()})\n",
    "    print(\"🔥 ONNX model inference successful!\")\n",
    "    return outputs"
   ]
  },
  {
   "cell_type": "code",
   "execution_count": 8,
   "id": "a4dc8c13-4711-4762-9478-f6b43b8f8ca2",
   "metadata": {},
   "outputs": [],
   "source": [
    "model = load_pytorch_model('./data/models/retrained_mobilenet_v2.pt')"
   ]
  },
  {
   "cell_type": "code",
   "execution_count": 9,
   "id": "0b07f3aa-11e9-4955-a895-6f740ea45ae3",
   "metadata": {},
   "outputs": [
    {
     "name": "stdout",
     "output_type": "stream",
     "text": [
      "✅ Model converted to ONNX: model.onnx\n"
     ]
    }
   ],
   "source": [
    "convert_to_onnx(model)"
   ]
  },
  {
   "cell_type": "code",
   "execution_count": 10,
   "id": "f28efd9d-a061-43cb-b9bc-61bd0813251d",
   "metadata": {},
   "outputs": [
    {
     "name": "stdout",
     "output_type": "stream",
     "text": [
      "✅ ONNX model integrity verified!\n"
     ]
    }
   ],
   "source": [
    "verify_onnx_model('./model.onnx')"
   ]
  },
  {
   "cell_type": "code",
   "execution_count": 11,
   "id": "bb5f0e02-00c7-4b07-89fe-4bb8af338858",
   "metadata": {},
   "outputs": [
    {
     "name": "stdout",
     "output_type": "stream",
     "text": [
      "🔥 ONNX model inference successful!\n"
     ]
    },
    {
     "data": {
      "text/plain": [
       "[array([[-5.032561  ,  2.4403944 , -0.34752664, -6.0373116 , -4.012481  ,\n",
       "          0.5832955 ,  1.0356275 , -0.17992587, -1.1850585 ,  4.4787087 ,\n",
       "          5.5268545 , -7.0498238 , -2.5604897 , -2.1431074 ,  0.4872554 ,\n",
       "         -2.7128272 ,  2.8310237 , -0.39761472, -2.7208414 , -1.6594896 ,\n",
       "         -4.2011743 , -3.994329  , -1.5888466 ]], dtype=float32)]"
      ]
     },
     "execution_count": 11,
     "metadata": {},
     "output_type": "execute_result"
    }
   ],
   "source": [
    "dummy_input = torch.randn(1, 3, 224, 224)\n",
    "run_onnx_inference(\"model.onnx\", dummy_input)"
   ]
  },
  {
   "cell_type": "code",
   "execution_count": null,
   "id": "1207f735-e533-494e-a111-667dcaac8c2a",
   "metadata": {},
   "outputs": [],
   "source": []
  },
  {
   "cell_type": "code",
   "execution_count": null,
   "id": "e77ceaa7-8993-4c84-89f8-a58003d1559d",
   "metadata": {},
   "outputs": [],
   "source": []
  }
 ],
 "metadata": {
  "kernelspec": {
   "display_name": "Python 3 (ipykernel)",
   "language": "python",
   "name": "python3"
  },
  "language_info": {
   "codemirror_mode": {
    "name": "ipython",
    "version": 3
   },
   "file_extension": ".py",
   "mimetype": "text/x-python",
   "name": "python",
   "nbconvert_exporter": "python",
   "pygments_lexer": "ipython3",
   "version": "3.9.22"
  }
 },
 "nbformat": 4,
 "nbformat_minor": 5
}
