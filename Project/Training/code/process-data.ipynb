{
 "cells": [
  {
   "cell_type": "code",
   "execution_count": 1,
   "id": "b809d91c-9b64-4678-8261-ca54bdef90eb",
   "metadata": {},
   "outputs": [],
   "source": [
    "import os\n",
    "import shutil\n",
    "import random\n",
    "import pandas as pd\n",
    "from sklearn.model_selection import train_test_split\n",
    "\n",
    "\n",
    "# Define paths\n",
    "ham10000_path = \"./data/HAM10000\"\n",
    "dermnet_path = \"./data/dermnet\"\n",
    "output_path = \"./data/training_data\""
   ]
  },
  {
   "cell_type": "code",
   "execution_count": 4,
   "id": "2c93b739-e33f-4de1-944a-7fdf6bca162f",
   "metadata": {},
   "outputs": [],
   "source": [
    "def files_in_directory(directory_path):\n",
    "    return [file for file in os.listdir(directory_path) if os.path.isfile(os.path.join(directory_path, file))]\n",
    "\n",
    "dsets= [\"train\", \"test\"]\n",
    "\n",
    "train_classes = os.listdir(dermnet_path + '/train')\n",
    "\n",
    "class_dict = {value: index for index, value in enumerate(train_classes)}\n",
    "\n",
    "\n",
    "# for dset in dsets:\n",
    "#     os.makedirs(output_path + '/' + dset, exist_ok=True)\n",
    "#     for i in range(len(train_classes)):\n",
    "#         og_pth = dermnet_path + '/' + dset + '/' + train_classes[i] + '/';\n",
    "#         files = files_in_directory(og_pth)\n",
    "#         os.makedirs(output_path + '/' + dset + '/' + str(i), exist_ok=True)\n",
    "#         for file in files:\n",
    "#             shutil.copy(og_pth + file, output_path + '/' + dset + '/' + str(i) + '/' + file)"
   ]
  },
  {
   "cell_type": "code",
   "execution_count": 5,
   "id": "ba4ab0b9-5372-436e-b778-474bbdc2e9e6",
   "metadata": {},
   "outputs": [],
   "source": [
    "# Get train/test split from DermNet\n",
    "split_ratios = {}\n",
    "for class_name in os.listdir(os.path.join(dermnet_path, \"train\")):\n",
    "    train_count = len(os.listdir(os.path.join(dermnet_path, \"train\", class_name)))\n",
    "    test_count = len(os.listdir(os.path.join(dermnet_path, \"test\", class_name)))\n",
    "    split_ratios[class_name] = train_count / (train_count + test_count)"
   ]
  },
  {
   "cell_type": "code",
   "execution_count": 6,
   "id": "90d41a5c-9db2-494d-ad21-969016ee97f7",
   "metadata": {},
   "outputs": [
    {
     "data": {
      "text/plain": [
       "{'Acne and Rosacea Photos': 0.7291666666666666,\n",
       " 'Actinic Keratosis Basal Cell Carcinoma and other Malignant Lesions': 0.7995824634655533,\n",
       " 'Atopic Dermatitis Photos': 0.7990196078431373,\n",
       " 'Bullous Disease Photos': 0.7985739750445633,\n",
       " 'Cellulitis Impetigo and other Bacterial Infections': 0.7977839335180056,\n",
       " 'Eczema Photos': 0.7998704663212435,\n",
       " 'Exanthems and Drug Eruptions': 0.8,\n",
       " 'Hair Loss Photos Alopecia and other Hair Diseases': 0.7993311036789298,\n",
       " 'Herpes HPV and other STDs Photos': 0.7988165680473372,\n",
       " 'Light Diseases and Disorders of Pigmentation': 0.7988748241912799,\n",
       " 'Lupus and other Connective Tissue diseases': 0.8,\n",
       " 'Melanoma Skin Cancer Nevi and Moles': 0.7996545768566494,\n",
       " 'Nail Fungus and other Nail Disease': 0.7993850883935434,\n",
       " 'Poison Ivy Photos and other Contact Dermatitis': 0.8,\n",
       " 'Psoriasis pictures Lichen Planus and related diseases': 0.7996585088218554,\n",
       " 'Scabies Lyme Disease and other Infestations and Bites': 0.7996289424860853,\n",
       " 'Seborrheic Keratoses and other Benign Tumors': 0.7998833138856476,\n",
       " 'Systemic Disease': 0.7994722955145118,\n",
       " 'Tinea Ringworm Candidiasis and other Fungal Infections': 0.8,\n",
       " 'Urticaria Hives': 0.8,\n",
       " 'Vascular Tumors': 0.7993366500829188,\n",
       " 'Vasculitis Photos': 0.7984644913627639,\n",
       " 'Warts Molluscum and other Viral Infections': 0.7997054491899853}"
      ]
     },
     "execution_count": 6,
     "metadata": {},
     "output_type": "execute_result"
    }
   ],
   "source": [
    "split_ratios"
   ]
  },
  {
   "cell_type": "code",
   "execution_count": 2,
   "id": "e3cbf748-3dde-4388-a126-448b93ccb307",
   "metadata": {},
   "outputs": [],
   "source": [
    "df = pd.read_csv(ham10000_path + '/HAM10000_metadata')"
   ]
  },
  {
   "cell_type": "code",
   "execution_count": 4,
   "id": "909c460d-5e1d-40ac-8f59-217b4ce5681c",
   "metadata": {},
   "outputs": [
    {
     "data": {
      "text/html": [
       "<div>\n",
       "<style scoped>\n",
       "    .dataframe tbody tr th:only-of-type {\n",
       "        vertical-align: middle;\n",
       "    }\n",
       "\n",
       "    .dataframe tbody tr th {\n",
       "        vertical-align: top;\n",
       "    }\n",
       "\n",
       "    .dataframe thead th {\n",
       "        text-align: right;\n",
       "    }\n",
       "</style>\n",
       "<table border=\"1\" class=\"dataframe\">\n",
       "  <thead>\n",
       "    <tr style=\"text-align: right;\">\n",
       "      <th></th>\n",
       "      <th>lesion_id</th>\n",
       "      <th>image_id</th>\n",
       "      <th>dx</th>\n",
       "      <th>dx_type</th>\n",
       "      <th>age</th>\n",
       "      <th>sex</th>\n",
       "      <th>localization</th>\n",
       "      <th>dataset</th>\n",
       "    </tr>\n",
       "  </thead>\n",
       "  <tbody>\n",
       "    <tr>\n",
       "      <th>0</th>\n",
       "      <td>HAM_0000118</td>\n",
       "      <td>ISIC_0027419</td>\n",
       "      <td>bkl</td>\n",
       "      <td>histo</td>\n",
       "      <td>80.0</td>\n",
       "      <td>male</td>\n",
       "      <td>scalp</td>\n",
       "      <td>vidir_modern</td>\n",
       "    </tr>\n",
       "    <tr>\n",
       "      <th>1</th>\n",
       "      <td>HAM_0000118</td>\n",
       "      <td>ISIC_0025030</td>\n",
       "      <td>bkl</td>\n",
       "      <td>histo</td>\n",
       "      <td>80.0</td>\n",
       "      <td>male</td>\n",
       "      <td>scalp</td>\n",
       "      <td>vidir_modern</td>\n",
       "    </tr>\n",
       "    <tr>\n",
       "      <th>2</th>\n",
       "      <td>HAM_0002730</td>\n",
       "      <td>ISIC_0026769</td>\n",
       "      <td>bkl</td>\n",
       "      <td>histo</td>\n",
       "      <td>80.0</td>\n",
       "      <td>male</td>\n",
       "      <td>scalp</td>\n",
       "      <td>vidir_modern</td>\n",
       "    </tr>\n",
       "    <tr>\n",
       "      <th>3</th>\n",
       "      <td>HAM_0002730</td>\n",
       "      <td>ISIC_0025661</td>\n",
       "      <td>bkl</td>\n",
       "      <td>histo</td>\n",
       "      <td>80.0</td>\n",
       "      <td>male</td>\n",
       "      <td>scalp</td>\n",
       "      <td>vidir_modern</td>\n",
       "    </tr>\n",
       "    <tr>\n",
       "      <th>4</th>\n",
       "      <td>HAM_0001466</td>\n",
       "      <td>ISIC_0031633</td>\n",
       "      <td>bkl</td>\n",
       "      <td>histo</td>\n",
       "      <td>75.0</td>\n",
       "      <td>male</td>\n",
       "      <td>ear</td>\n",
       "      <td>vidir_modern</td>\n",
       "    </tr>\n",
       "  </tbody>\n",
       "</table>\n",
       "</div>"
      ],
      "text/plain": [
       "     lesion_id      image_id   dx dx_type   age   sex localization  \\\n",
       "0  HAM_0000118  ISIC_0027419  bkl   histo  80.0  male        scalp   \n",
       "1  HAM_0000118  ISIC_0025030  bkl   histo  80.0  male        scalp   \n",
       "2  HAM_0002730  ISIC_0026769  bkl   histo  80.0  male        scalp   \n",
       "3  HAM_0002730  ISIC_0025661  bkl   histo  80.0  male        scalp   \n",
       "4  HAM_0001466  ISIC_0031633  bkl   histo  75.0  male          ear   \n",
       "\n",
       "        dataset  \n",
       "0  vidir_modern  \n",
       "1  vidir_modern  \n",
       "2  vidir_modern  \n",
       "3  vidir_modern  \n",
       "4  vidir_modern  "
      ]
     },
     "execution_count": 4,
     "metadata": {},
     "output_type": "execute_result"
    }
   ],
   "source": [
    "df.head()"
   ]
  },
  {
   "cell_type": "code",
   "execution_count": 13,
   "id": "00b16a7d-7d16-40af-a938-02b14c3d6ff9",
   "metadata": {},
   "outputs": [],
   "source": [
    "# Perform stratified split\n",
    "train_df, test_df = train_test_split(df, test_size=0.2, stratify=df[\"dx\"], random_state=42)\n",
    "\n",
    "# Save the results\n",
    "train_df.to_csv(ham10000_path + \"/train_dataset.csv\", index=False)\n",
    "test_df.to_csv(ham10000_path + \"/test_dataset.csv\", index=False)"
   ]
  },
  {
   "cell_type": "code",
   "execution_count": 16,
   "id": "17e401d3-986e-4302-a5ae-03fdf92402fc",
   "metadata": {},
   "outputs": [],
   "source": [
    "ham_classes = df[\"dx\"].unique().tolist()"
   ]
  },
  {
   "cell_type": "code",
   "execution_count": 23,
   "id": "1ce6394e-453d-4114-acee-90cf2d4bf0c4",
   "metadata": {},
   "outputs": [],
   "source": [
    "meaning_map = {\n",
    "    \"akiec\": \"Actinic keratoses and intraepithelial carcinoma / Bowen's disease\",\n",
    "    \"bcc\": \"Basal cell carcinoma\",\n",
    "    \"bkl\": \"Benign keratosis-like lesions (solar lentigines / seborrheic keratoses and lichen-planus like keratoses)\",\n",
    "    \"df\": \"Dermatofibroma\",\n",
    "    \"mel\": \"Melanoma\",\n",
    "    \"nv\": \"Melanocytic nevi\",\n",
    "    \"vasc\": \"Vascular lesions (angiomas, angiokeratomas, pyogenic granulomas and hemorrhage)\"\n",
    "}\n",
    "\n",
    "ham_folder_dict = {\n",
    "    \"bkl\": len(train_classes),\n",
    "    \"nv\": len(train_classes) + 1,\n",
    "    \"df\": len(train_classes) + 2,\n",
    "    \"mel\": len(train_classes) + 3,\n",
    "    \"vasc\": len(train_classes) + 4,\n",
    "    \"bcc\": len(train_classes) + 5,\n",
    "    \"akiec\": len(train_classes) + 6\n",
    "}\n",
    "\n",
    "ham_class_dict = {meaning_map[index]: value for index, value in ham_folder_dict.items()}"
   ]
  },
  {
   "cell_type": "code",
   "execution_count": 29,
   "id": "413e424d-cd38-4d5e-a429-2a6706e4e23f",
   "metadata": {},
   "outputs": [],
   "source": [
    "for dset in dsets:\n",
    "    os.makedirs(output_path + '/' + dset, exist_ok=True)\n",
    "    for ham_class in ham_folder_dict:\n",
    "        og_pth = ham10000_path + '/images/';\n",
    "        selected_df = eval(dset + \"_df\")\n",
    "        files = selected_df[selected_df[\"dx\"] == ham_class][\"image_id\"]\n",
    "        os.makedirs(output_path + '/' + dset + '/' + str(ham_folder_dict[ham_class]), exist_ok=True)\n",
    "        for file in files:\n",
    "            shutil.copy(og_pth + file + '.jpg', output_path + '/' + dset + '/' + str(ham_folder_dict[ham_class]) + '/' + file + '.jpg')"
   ]
  },
  {
   "cell_type": "code",
   "execution_count": 30,
   "id": "2c79e8ca-73ba-43c2-84f6-784c7cd4d90c",
   "metadata": {},
   "outputs": [],
   "source": [
    "class_dict.update(ham_class_dict)"
   ]
  },
  {
   "cell_type": "code",
   "execution_count": 32,
   "id": "b8336863-9943-4f2a-9b6c-9779a54f1f11",
   "metadata": {},
   "outputs": [],
   "source": [
    "import json\n",
    "\n",
    "with open(\"class_mapping.json\", \"w\") as json_file:\n",
    "    json.dump(class_dict, json_file, indent=4)  # `indent=4` makes it readable"
   ]
  },
  {
   "cell_type": "code",
   "execution_count": null,
   "id": "2daaec6c-a50b-46de-8df9-b92107e62c0d",
   "metadata": {},
   "outputs": [],
   "source": []
  }
 ],
 "metadata": {
  "kernelspec": {
   "display_name": "Python 3 (ipykernel)",
   "language": "python",
   "name": "python3"
  },
  "language_info": {
   "codemirror_mode": {
    "name": "ipython",
    "version": 3
   },
   "file_extension": ".py",
   "mimetype": "text/x-python",
   "name": "python",
   "nbconvert_exporter": "python",
   "pygments_lexer": "ipython3",
   "version": "3.9.22"
  }
 },
 "nbformat": 4,
 "nbformat_minor": 5
}
