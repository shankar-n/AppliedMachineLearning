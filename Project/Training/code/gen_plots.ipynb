{
 "cells": [
  {
   "cell_type": "code",
   "execution_count": 44,
   "id": "5df7711c-9b60-427d-a534-5ad327ca4c20",
   "metadata": {},
   "outputs": [],
   "source": [
    "import matplotlib.pyplot as plt\n",
    "import seaborn as sns\n",
    "import cv2\n",
    "import numpy as np\n",
    "from PIL import Image\n",
    "import pandas as pd\n",
    "from IPython.display import display, HTML\n",
    "import dataframe_image as dfi\n",
    "import os\n",
    "from tabulate import tabulate\n",
    "\n",
    "import warnings\n",
    "warnings.filterwarnings(\"ignore\") \n",
    "\n",
    "folder_path = './data/dermnet'"
   ]
  },
  {
   "cell_type": "code",
   "execution_count": 7,
   "id": "5664bfb0-a2e7-43c2-9b1d-c78997aeaae8",
   "metadata": {},
   "outputs": [
    {
     "name": "stdout",
     "output_type": "stream",
     "text": [
      "+----+--------------------------------------------------------------------+------------+-----------+\n",
      "|    | Labels                                                             |   NumTrain |   NumTest |\n",
      "+====+====================================================================+============+===========+\n",
      "|  0 | Acne and Rosacea Photos                                            |        840 |       312 |\n",
      "|  1 | Actinic Keratosis Basal Cell Carcinoma and other Malignant Lesions |       1149 |       288 |\n",
      "|  2 | Atopic Dermatitis Photos                                           |        489 |       123 |\n",
      "|  3 | Bullous Disease Photos                                             |        448 |       113 |\n",
      "|  4 | Cellulitis Impetigo and other Bacterial Infections                 |        288 |        73 |\n",
      "|  5 | Eczema Photos                                                      |       1235 |       309 |\n",
      "|  6 | Exanthems and Drug Eruptions                                       |        404 |       101 |\n",
      "|  7 | Hair Loss Photos Alopecia and other Hair Diseases                  |        239 |        60 |\n",
      "|  8 | Herpes HPV and other STDs Photos                                   |        405 |       102 |\n",
      "|  9 | Light Diseases and Disorders of Pigmentation                       |        568 |       143 |\n",
      "| 10 | Lupus and other Connective Tissue diseases                         |        420 |       105 |\n",
      "| 11 | Melanoma Skin Cancer Nevi and Moles                                |        463 |       116 |\n",
      "| 12 | Nail Fungus and other Nail Disease                                 |       1040 |       261 |\n",
      "| 13 | Poison Ivy Photos and other Contact Dermatitis                     |        260 |        65 |\n",
      "| 14 | Psoriasis pictures Lichen Planus and related diseases              |       1405 |       352 |\n",
      "| 15 | Scabies Lyme Disease and other Infestations and Bites              |        431 |       108 |\n",
      "| 16 | Seborrheic Keratoses and other Benign Tumors                       |       1371 |       343 |\n",
      "| 17 | Systemic Disease                                                   |        606 |       152 |\n",
      "| 18 | Tinea Ringworm Candidiasis and other Fungal Infections             |       1300 |       325 |\n",
      "| 19 | Urticaria Hives                                                    |        212 |        53 |\n",
      "| 20 | Vascular Tumors                                                    |        482 |       121 |\n",
      "| 21 | Vasculitis Photos                                                  |        416 |       105 |\n",
      "| 22 | Warts Molluscum and other Viral Infections                         |       1086 |       272 |\n",
      "+----+--------------------------------------------------------------------+------------+-----------+\n"
     ]
    }
   ],
   "source": [
    "def files_in_directory(directory_path):\n",
    "    return [file for file in os.listdir(directory_path) if os.path.isfile(os.path.join(directory_path, file))]\n",
    "\n",
    "classes = os.listdir('./data/dermnet/train')    \n",
    "\n",
    "class_counts = {\n",
    "    \"Labels\":[],\n",
    "    \"NumTrain\":[],\n",
    "    \"NumTest\":[],\n",
    "}\n",
    "\n",
    "for label in classes:\n",
    "    class_counts[\"NumTrain\"].append(len(files_in_directory(folder_path + '/train/' + label)))\n",
    "    class_counts[\"NumTest\"].append(len(files_in_directory(folder_path + '/test/' + label)))\n",
    "    class_counts[\"Labels\"].append(label)\n",
    "\n",
    "df = pd.DataFrame.from_dict(class_counts)\n",
    "\n",
    "# display(HTML(df.to_html()))\n",
    "# df_styled = df.style.background_gradient() \n",
    "# dfi.export(df_styled,\"dermnet_classes.png\")\n",
    "\n",
    "print(tabulate(df,headers='keys', tablefmt=\"outline\"))"
   ]
  },
  {
   "cell_type": "code",
   "execution_count": 16,
   "id": "78a5017f-a447-4532-8e24-5713fe6ff94f",
   "metadata": {},
   "outputs": [
    {
     "data": {
      "image/png": "[encoded data removed]",
      "text/plain": [
       "<Figure size 800x500 with 1 Axes>"
      ]
     },
     "metadata": {},
     "output_type": "display_data"
    }
   ],
   "source": [
    "# Create histogram\n",
    "plt.figure(figsize=(8, 5))\n",
    "sns.barplot(x=range(23), y=class_counts[\"NumTrain\"], color='blue', label='Train')\n",
    "sns.barplot(x=range(23), y=class_counts[\"NumTest\"], color='orange', label='Test', alpha=0.7)\n",
    "plt.ylabel('Sample Count')\n",
    "plt.title('Dermnet Label Distribution')\n",
    "plt.legend()\n",
    "plt.xticks(rotation=45)\n",
    "plt.tight_layout()\n",
    "plt.savefig('histogram.png')"
   ]
  },
  {
   "cell_type": "code",
   "execution_count": 10,
   "id": "34e29f86-70e5-41c9-8e2f-e4c5004f55b2",
   "metadata": {},
   "outputs": [],
   "source": [
    "labels = ['Acne and Rosacea', 'Eczema', 'Hair Loss, Alopecia and other', 'Urticaria Hives']\n",
    "sample_images = ['train/Acne and Rosacea Photos/07Acne081101.jpg', 'train/Eczema Photos/eczema-fingertips-134.jpg', 'train/Hair Loss Photos Alopecia and other Hair Diseases/alopecia-areata-97.jpg', 'train/Urticaria Hives/angioedema-26.jpg']"
   ]
  },
  {
   "cell_type": "code",
   "execution_count": 22,
   "id": "c0afa469-c7da-494d-b200-eef10310af52",
   "metadata": {},
   "outputs": [
    {
     "name": "stdout",
     "output_type": "stream",
     "text": [
      "Presentation slide saved as 'presentation_slide.png'!\n"
     ]
    }
   ],
   "source": [
    "# Create collage\n",
    "images = [cv2.imread('./data/dermnet/' + img) for img in sample_images]\n",
    "for i in range(len(images)):\n",
    "    images[i] = cv2.resize(images[i], (300, 300)) \n",
    "\n",
    "image_size = 300\n",
    "# Add Labels\n",
    "for i, img in enumerate(images):\n",
    "    cv2.putText(img, labels[i], (10, 30), cv2.FONT_HERSHEY_SIMPLEX, 0.8, (255, 255, 255), 2)\n",
    "\n",
    "# Arrange in a grid with spacing\n",
    "spacing = 20  # Adjust as needed\n",
    "collage_width = 2 * image_size + spacing\n",
    "collage_height = 2 * image_size + spacing\n",
    "collage = np.ones((collage_height, collage_width, 3), dtype=np.uint8) * 255  # White background\n",
    "\n",
    "positions = [(0, 0), (0, image_size + spacing), (image_size + spacing, 0), (image_size + spacing, image_size + spacing)]\n",
    "for pos, img in zip(positions, images):\n",
    "    collage[pos[0]:pos[0] + image_size, pos[1]:pos[1] + image_size, :] = img\n",
    "\n",
    "# Save the collage\n",
    "cv2.imwrite('collage.png', collage)\n",
    "\n",
    "# Combine with histogram\n",
    "hist_img = Image.open('histogram.png')\n",
    "collage_img = Image.open('collage.png')\n",
    "\n",
    "final_slide = Image.new('RGB', (max(hist_img.width, collage_img.width), hist_img.height + collage_img.height + spacing), (255, 255, 255))\n",
    "final_slide.paste(hist_img, (0, 0))\n",
    "final_slide.paste(collage_img, (0, hist_img.height + spacing))\n",
    "\n",
    "final_slide.save('presentation_slide.png')\n",
    "\n",
    "print(\"Presentation slide saved as 'presentation_slide.png'!\")"
   ]
  },
  {
   "cell_type": "code",
   "execution_count": 52,
   "id": "20442779-28a3-47ee-bcb3-99cbd21a3935",
   "metadata": {},
   "outputs": [],
   "source": [
    "ham10000_path = \"./data/HAM10000\"\n",
    "df = pd.read_csv(ham10000_path + '/HAM10000_metadata')\n",
    "\n",
    "datasets = ['vidir_modern', 'rosendahl', 'vienna_dias', 'vidir_molemax']\n",
    "dx = ['bkl', 'nv', 'df', 'mel', 'vasc', 'bcc', 'akiec']\n",
    "meaning_map = {\n",
    "    \"akiec\": \"Actinic keratoses and intraepithelial carcinoma / Bowen's disease\",\n",
    "    \"bcc\": \"Basal cell carcinoma\",\n",
    "    \"bkl\": \"Benign keratosis-like lesions (solar lentigines / seborrheic keratoses and lichen-planus like keratoses)\",\n",
    "    \"df\": \"Dermatofibroma\",\n",
    "    \"mel\": \"Melanoma\",\n",
    "    \"nv\": \"Melanocytic nevi\",\n",
    "    \"vasc\": \"Vascular lesions (angiomas, angiokeratomas, pyogenic granulomas and hemorrhage)\"\n",
    "}"
   ]
  },
  {
   "cell_type": "code",
   "execution_count": 48,
   "id": "7929fbda-8e23-45c3-af99-1bfa47fe8f4a",
   "metadata": {},
   "outputs": [
    {
     "name": "stdout",
     "output_type": "stream",
     "text": [
      "+----+-------------+--------------+------+-----------+-------+-------+----------------+--------------+\n",
      "|    | lesion_id   | image_id     | dx   | dx_type   |   age | sex   | localization   | dataset      |\n",
      "+====+=============+==============+======+===========+=======+=======+================+==============+\n",
      "|  0 | HAM_0000118 | ISIC_0027419 | bkl  | histo     |    80 | male  | scalp          | vidir_modern |\n",
      "|  1 | HAM_0000118 | ISIC_0025030 | bkl  | histo     |    80 | male  | scalp          | vidir_modern |\n",
      "|  2 | HAM_0002730 | ISIC_0026769 | bkl  | histo     |    80 | male  | scalp          | vidir_modern |\n",
      "|  3 | HAM_0002730 | ISIC_0025661 | bkl  | histo     |    80 | male  | scalp          | vidir_modern |\n",
      "|  4 | HAM_0001466 | ISIC_0031633 | bkl  | histo     |    75 | male  | ear            | vidir_modern |\n",
      "|  5 | HAM_0001466 | ISIC_0027850 | bkl  | histo     |    75 | male  | ear            | vidir_modern |\n",
      "|  6 | HAM_0002761 | ISIC_0029176 | bkl  | histo     |    60 | male  | face           | vidir_modern |\n",
      "+----+-------------+--------------+------+-----------+-------+-------+----------------+--------------+\n",
      "Total Images:  10000\n",
      "Unique Classes [dx]:  ['bkl', 'nv', 'df', 'mel', 'vasc', 'bcc', 'akiec']\n",
      "Unique Datasets: ['vidir_modern', 'rosendahl', 'vienna_dias', 'vidir_molemax']\n",
      "Maintining same 80:20 train-test split\n"
     ]
    },
    {
     "data": {
      "image/png": "[encoded data removed]",
      "text/plain": [
       "<Figure size 700x400 with 1 Axes>"
      ]
     },
     "metadata": {},
     "output_type": "display_data"
    }
   ],
   "source": [
    "print(tabulate(df.head(7),headers='keys', tablefmt=\"outline\"))\n",
    "\n",
    "print(\"Total Images: \", 10000)\n",
    "print(\"Unique Classes [dx]: \" , dx)\n",
    "print(\"Unique Datasets:\" , datasets)\n",
    "print(\"Maintining same 80:20 train-test split\")\n",
    "\n",
    "\n",
    "# Set Seaborn Theme\n",
    "sns.set_theme(style=\"whitegrid\")\n",
    "\n",
    "# Create histogram plot\n",
    "plt.figure(figsize=(7, 4))\n",
    "sns.histplot(df['age'], bins=15, color='#3498db', alpha=0.7, edgecolor='black')\n",
    "\n",
    "# Add labels & title\n",
    "plt.xlabel('Age', fontsize=12, fontweight='bold')\n",
    "plt.ylabel('Samples', fontsize=12, fontweight='bold')\n",
    "plt.title('Age Distribution of HAM10000', fontsize=14, fontweight='bold', color='#2c3e50')\n",
    "plt.legend()\n",
    "plt.grid(axis='y', linestyle='--', alpha=0.5)\n",
    "\n",
    "# Save & Show\n",
    "plt.tight_layout()\n",
    "# plt.savefig('prettified_histogram.png', dpi=300)\n",
    "plt.show()"
   ]
  },
  {
   "cell_type": "code",
   "execution_count": 50,
   "id": "ff0a733e-c393-4bfe-a489-6c565d7a1914",
   "metadata": {},
   "outputs": [
    {
     "name": "stdout",
     "output_type": "stream",
     "text": [
      "+----+----------------------------------------------------------------------------------------------------------+--------------+\n",
      "|    | Labels                                                                                                   |   NumSamples |\n",
      "+====+==========================================================================================================+==============+\n",
      "|  0 | Actinic keratoses and intraepithelial carcinoma / Bowen's disease                                        |          327 |\n",
      "|  1 | Basal cell carcinoma                                                                                     |          514 |\n",
      "|  2 | Benign keratosis-like lesions (solar lentigines / seborrheic keratoses and lichen-planus like keratoses) |         1099 |\n",
      "|  3 | Dermatofibroma                                                                                           |          115 |\n",
      "|  4 | Melanoma                                                                                                 |         1113 |\n",
      "|  5 | Melanocytic nevi                                                                                         |         6705 |\n",
      "|  6 | Vascular lesions (angiomas, angiokeratomas, pyogenic granulomas and hemorrhage)                          |          142 |\n",
      "+----+----------------------------------------------------------------------------------------------------------+--------------+\n"
     ]
    }
   ],
   "source": [
    "class_counts = {\n",
    "    \"Labels\":[],\n",
    "    \"NumSamples\":[]\n",
    "}\n",
    "\n",
    "for key in meaning_map:\n",
    "    class_counts[\"NumSamples\"].append(df[df[\"dx\"] == key].shape[0])\n",
    "    class_counts[\"Labels\"].append(meaning_map[key])\n",
    "\n",
    "df = pd.DataFrame.from_dict(class_counts)\n",
    "\n",
    "print(tabulate(df,headers='keys', tablefmt=\"outline\"))"
   ]
  },
  {
   "cell_type": "code",
   "execution_count": 54,
   "id": "c8e6ad50-36a2-4a8e-b8ae-effe10ff6b16",
   "metadata": {},
   "outputs": [],
   "source": [
    "labels = class_counts[\"Labels\"]\n",
    "sample_images = []\n",
    "for key in meaning_map:\n",
    "    sample_images.append(df[df[\"dx\"] == key].iloc[0,1])"
   ]
  },
  {
   "cell_type": "code",
   "execution_count": 57,
   "id": "f6ae2703-bd92-4de5-b452-521eaa05de35",
   "metadata": {},
   "outputs": [
    {
     "data": {
      "text/plain": [
       "True"
      ]
     },
     "execution_count": 57,
     "metadata": {},
     "output_type": "execute_result"
    }
   ],
   "source": [
    "# Create collage\n",
    "images = [cv2.imread('./data/HAM10000/images/' + img + '.jpg') for img in sample_images]\n",
    "for i in range(len(images)):\n",
    "    images[i] = cv2.resize(images[i], (300, 300)) \n",
    "\n",
    "image_size = 300\n",
    "spacing = 20  # Space between images\n",
    "rows, cols = 3, 3  # Grid layout (3x3)\n",
    "\n",
    "# Add labels to images\n",
    "for i, img in enumerate(images):\n",
    "    cv2.putText(img, labels[i], (10, 30), cv2.FONT_HERSHEY_SIMPLEX, 1, (255, 255, 255), 2)\n",
    "\n",
    "# Compute collage size\n",
    "collage_width = cols * image_size + (cols - 1) * spacing\n",
    "collage_height = rows * image_size + (rows - 1) * spacing\n",
    "collage = np.ones((collage_height, collage_width, 3), dtype=np.uint8) * 255  # White background\n",
    "\n",
    "# Arrange images in grid with spacing\n",
    "for i in range(len(images)):\n",
    "    row = i // cols\n",
    "    col = i % cols\n",
    "    x = col * (image_size + spacing)\n",
    "    y = row * (image_size + spacing)\n",
    "    collage[y:y + image_size, x:x + image_size, :] = images[i]\n",
    "\n",
    "# Save the collage\n",
    "cv2.imwrite('collage.png', collage)"
   ]
  },
  {
   "cell_type": "code",
   "execution_count": null,
   "id": "fccc791a-60c3-48f0-b56f-f99544a2f3f6",
   "metadata": {},
   "outputs": [],
   "source": []
  },
  {
   "cell_type": "code",
   "execution_count": 59,
   "id": "f408953a-e4dc-487a-a2e9-89f3b81c334a",
   "metadata": {},
   "outputs": [
    {
     "data": {
      "text/plain": [
       "500"
      ]
     },
     "execution_count": 59,
     "metadata": {},
     "output_type": "execute_result"
    }
   ],
   "source": []
  },
  {
   "cell_type": "code",
   "execution_count": null,
   "id": "af7893c2-a6c2-4686-acb8-20328c520cb5",
   "metadata": {},
   "outputs": [],
   "source": []
  }
 ],
 "metadata": {
  "kernelspec": {
   "display_name": "Python 3 (ipykernel)",
   "language": "python",
   "name": "python3"
  },
  "language_info": {
   "codemirror_mode": {
    "name": "ipython",
    "version": 3
   },
   "file_extension": ".py",
   "mimetype": "text/x-python",
   "name": "python",
   "nbconvert_exporter": "python",
   "pygments_lexer": "ipython3",
   "version": "3.9.22"
  }
 },
 "nbformat": 4,
 "nbformat_minor": 5
}
